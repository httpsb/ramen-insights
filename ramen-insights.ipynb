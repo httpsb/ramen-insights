{
 "cells": [
  {
   "cell_type": "code",
   "execution_count": 1,
   "id": "5f3e9176",
   "metadata": {
    "execution": {
     "iopub.execute_input": "2024-02-16T08:00:42.577011Z",
     "iopub.status.busy": "2024-02-16T08:00:42.575552Z",
     "iopub.status.idle": "2024-02-16T08:00:45.359181Z",
     "shell.execute_reply": "2024-02-16T08:00:45.358047Z"
    },
    "executionInfo": {
     "elapsed": 351,
     "status": "ok",
     "timestamp": 1708070954672,
     "user": {
      "displayName": "balqis uslim",
      "userId": "17685182824634886674"
     },
     "user_tz": -480
    },
    "id": "IZgo1vu7Omr3",
    "papermill": {
     "duration": 2.801814,
     "end_time": "2024-02-16T08:00:45.362454",
     "exception": false,
     "start_time": "2024-02-16T08:00:42.560640",
     "status": "completed"
    },
    "tags": []
   },
   "outputs": [],
   "source": [
    "import pandas as pd\n",
    "import matplotlib.pyplot as plt\n",
    "import seaborn as sns\n",
    "\n",
    "import warnings\n",
    "warnings.filterwarnings('ignore')"
   ]
  },
  {
   "cell_type": "code",
   "execution_count": 2,
   "id": "8a98dcfc",
   "metadata": {
    "execution": {
     "iopub.execute_input": "2024-02-16T08:00:45.393131Z",
     "iopub.status.busy": "2024-02-16T08:00:45.391553Z",
     "iopub.status.idle": "2024-02-16T08:00:45.398203Z",
     "shell.execute_reply": "2024-02-16T08:00:45.396579Z"
    },
    "executionInfo": {
     "elapsed": 8861,
     "status": "ok",
     "timestamp": 1708070966349,
     "user": {
      "displayName": "balqis uslim",
      "userId": "17685182824634886674"
     },
     "user_tz": -480
    },
    "id": "DTRco43WT6kd",
    "outputId": "74c5beeb-27ba-4ec7-dba7-37cd9c1fdd52",
    "papermill": {
     "duration": 0.024446,
     "end_time": "2024-02-16T08:00:45.401249",
     "exception": false,
     "start_time": "2024-02-16T08:00:45.376803",
     "status": "completed"
    },
    "tags": []
   },
   "outputs": [],
   "source": [
    "#from google.colab import files\n",
    "#uploaded = files.upload()\n"
   ]
  },
  {
   "cell_type": "code",
   "execution_count": 3,
   "id": "a63eca51",
   "metadata": {
    "execution": {
     "iopub.execute_input": "2024-02-16T08:00:45.432400Z",
     "iopub.status.busy": "2024-02-16T08:00:45.430534Z",
     "iopub.status.idle": "2024-02-16T08:00:45.468089Z",
     "shell.execute_reply": "2024-02-16T08:00:45.466764Z"
    },
    "executionInfo": {
     "elapsed": 544,
     "status": "ok",
     "timestamp": 1708070968270,
     "user": {
      "displayName": "balqis uslim",
      "userId": "17685182824634886674"
     },
     "user_tz": -480
    },
    "id": "qHXAFbDLVs4x",
    "papermill": {
     "duration": 0.056109,
     "end_time": "2024-02-16T08:00:45.471314",
     "exception": false,
     "start_time": "2024-02-16T08:00:45.415205",
     "status": "completed"
    },
    "tags": []
   },
   "outputs": [],
   "source": [
    "ramen = pd.read_csv('/kaggle/input/ramen-ratings/ramen-ratings.csv')"
   ]
  },
  {
   "cell_type": "code",
   "execution_count": 4,
   "id": "baa7a9aa",
   "metadata": {
    "execution": {
     "iopub.execute_input": "2024-02-16T08:00:45.499524Z",
     "iopub.status.busy": "2024-02-16T08:00:45.498735Z",
     "iopub.status.idle": "2024-02-16T08:00:45.521699Z",
     "shell.execute_reply": "2024-02-16T08:00:45.520340Z"
    },
    "executionInfo": {
     "elapsed": 11,
     "status": "ok",
     "timestamp": 1708070969437,
     "user": {
      "displayName": "balqis uslim",
      "userId": "17685182824634886674"
     },
     "user_tz": -480
    },
    "id": "JOBhTPyiWCBG",
    "outputId": "e4343566-d892-4948-eec7-f30bf3f8f9ea",
    "papermill": {
     "duration": 0.040973,
     "end_time": "2024-02-16T08:00:45.524580",
     "exception": false,
     "start_time": "2024-02-16T08:00:45.483607",
     "status": "completed"
    },
    "tags": []
   },
   "outputs": [
    {
     "data": {
      "text/html": [
       "<div>\n",
       "<style scoped>\n",
       "    .dataframe tbody tr th:only-of-type {\n",
       "        vertical-align: middle;\n",
       "    }\n",
       "\n",
       "    .dataframe tbody tr th {\n",
       "        vertical-align: top;\n",
       "    }\n",
       "\n",
       "    .dataframe thead th {\n",
       "        text-align: right;\n",
       "    }\n",
       "</style>\n",
       "<table border=\"1\" class=\"dataframe\">\n",
       "  <thead>\n",
       "    <tr style=\"text-align: right;\">\n",
       "      <th></th>\n",
       "      <th>Review #</th>\n",
       "      <th>Brand</th>\n",
       "      <th>Variety</th>\n",
       "      <th>Style</th>\n",
       "      <th>Country</th>\n",
       "      <th>Stars</th>\n",
       "      <th>Top Ten</th>\n",
       "    </tr>\n",
       "  </thead>\n",
       "  <tbody>\n",
       "    <tr>\n",
       "      <th>0</th>\n",
       "      <td>2580</td>\n",
       "      <td>New Touch</td>\n",
       "      <td>T's Restaurant Tantanmen</td>\n",
       "      <td>Cup</td>\n",
       "      <td>Japan</td>\n",
       "      <td>3.75</td>\n",
       "      <td>NaN</td>\n",
       "    </tr>\n",
       "    <tr>\n",
       "      <th>1</th>\n",
       "      <td>2579</td>\n",
       "      <td>Just Way</td>\n",
       "      <td>Noodles Spicy Hot Sesame Spicy Hot Sesame Guan...</td>\n",
       "      <td>Pack</td>\n",
       "      <td>Taiwan</td>\n",
       "      <td>1</td>\n",
       "      <td>NaN</td>\n",
       "    </tr>\n",
       "    <tr>\n",
       "      <th>2</th>\n",
       "      <td>2578</td>\n",
       "      <td>Nissin</td>\n",
       "      <td>Cup Noodles Chicken Vegetable</td>\n",
       "      <td>Cup</td>\n",
       "      <td>USA</td>\n",
       "      <td>2.25</td>\n",
       "      <td>NaN</td>\n",
       "    </tr>\n",
       "    <tr>\n",
       "      <th>3</th>\n",
       "      <td>2577</td>\n",
       "      <td>Wei Lih</td>\n",
       "      <td>GGE Ramen Snack Tomato Flavor</td>\n",
       "      <td>Pack</td>\n",
       "      <td>Taiwan</td>\n",
       "      <td>2.75</td>\n",
       "      <td>NaN</td>\n",
       "    </tr>\n",
       "    <tr>\n",
       "      <th>4</th>\n",
       "      <td>2576</td>\n",
       "      <td>Ching's Secret</td>\n",
       "      <td>Singapore Curry</td>\n",
       "      <td>Pack</td>\n",
       "      <td>India</td>\n",
       "      <td>3.75</td>\n",
       "      <td>NaN</td>\n",
       "    </tr>\n",
       "  </tbody>\n",
       "</table>\n",
       "</div>"
      ],
      "text/plain": [
       "   Review #           Brand  \\\n",
       "0      2580       New Touch   \n",
       "1      2579        Just Way   \n",
       "2      2578          Nissin   \n",
       "3      2577         Wei Lih   \n",
       "4      2576  Ching's Secret   \n",
       "\n",
       "                                             Variety Style Country Stars  \\\n",
       "0                          T's Restaurant Tantanmen    Cup   Japan  3.75   \n",
       "1  Noodles Spicy Hot Sesame Spicy Hot Sesame Guan...  Pack  Taiwan     1   \n",
       "2                      Cup Noodles Chicken Vegetable   Cup     USA  2.25   \n",
       "3                      GGE Ramen Snack Tomato Flavor  Pack  Taiwan  2.75   \n",
       "4                                    Singapore Curry  Pack   India  3.75   \n",
       "\n",
       "  Top Ten  \n",
       "0     NaN  \n",
       "1     NaN  \n",
       "2     NaN  \n",
       "3     NaN  \n",
       "4     NaN  "
      ]
     },
     "execution_count": 4,
     "metadata": {},
     "output_type": "execute_result"
    }
   ],
   "source": [
    "# Display the first few rows of the dataset\n",
    "ramen.head()"
   ]
  },
  {
   "cell_type": "code",
   "execution_count": 5,
   "id": "7c01ef14",
   "metadata": {
    "execution": {
     "iopub.execute_input": "2024-02-16T08:00:45.554989Z",
     "iopub.status.busy": "2024-02-16T08:00:45.553909Z",
     "iopub.status.idle": "2024-02-16T08:00:45.570679Z",
     "shell.execute_reply": "2024-02-16T08:00:45.569325Z"
    },
    "executionInfo": {
     "elapsed": 348,
     "status": "ok",
     "timestamp": 1708070972498,
     "user": {
      "displayName": "balqis uslim",
      "userId": "17685182824634886674"
     },
     "user_tz": -480
    },
    "id": "eMb19EsidFKg",
    "outputId": "3c0505a5-3fc9-4ab2-e31d-149b42f73c8b",
    "papermill": {
     "duration": 0.035674,
     "end_time": "2024-02-16T08:00:45.573707",
     "exception": false,
     "start_time": "2024-02-16T08:00:45.538033",
     "status": "completed"
    },
    "tags": []
   },
   "outputs": [
    {
     "data": {
      "text/html": [
       "<div>\n",
       "<style scoped>\n",
       "    .dataframe tbody tr th:only-of-type {\n",
       "        vertical-align: middle;\n",
       "    }\n",
       "\n",
       "    .dataframe tbody tr th {\n",
       "        vertical-align: top;\n",
       "    }\n",
       "\n",
       "    .dataframe thead th {\n",
       "        text-align: right;\n",
       "    }\n",
       "</style>\n",
       "<table border=\"1\" class=\"dataframe\">\n",
       "  <thead>\n",
       "    <tr style=\"text-align: right;\">\n",
       "      <th></th>\n",
       "      <th>Review #</th>\n",
       "      <th>Brand</th>\n",
       "      <th>Variety</th>\n",
       "      <th>Style</th>\n",
       "      <th>Country</th>\n",
       "      <th>Stars</th>\n",
       "      <th>Top Ten</th>\n",
       "    </tr>\n",
       "  </thead>\n",
       "  <tbody>\n",
       "    <tr>\n",
       "      <th>2575</th>\n",
       "      <td>5</td>\n",
       "      <td>Vifon</td>\n",
       "      <td>Hu Tiu Nam Vang [\"Phnom Penh\" style] Asian Sty...</td>\n",
       "      <td>Bowl</td>\n",
       "      <td>Vietnam</td>\n",
       "      <td>3.5</td>\n",
       "      <td>NaN</td>\n",
       "    </tr>\n",
       "    <tr>\n",
       "      <th>2576</th>\n",
       "      <td>4</td>\n",
       "      <td>Wai Wai</td>\n",
       "      <td>Oriental Style Instant Noodles</td>\n",
       "      <td>Pack</td>\n",
       "      <td>Thailand</td>\n",
       "      <td>1</td>\n",
       "      <td>NaN</td>\n",
       "    </tr>\n",
       "    <tr>\n",
       "      <th>2577</th>\n",
       "      <td>3</td>\n",
       "      <td>Wai Wai</td>\n",
       "      <td>Tom Yum Shrimp</td>\n",
       "      <td>Pack</td>\n",
       "      <td>Thailand</td>\n",
       "      <td>2</td>\n",
       "      <td>NaN</td>\n",
       "    </tr>\n",
       "    <tr>\n",
       "      <th>2578</th>\n",
       "      <td>2</td>\n",
       "      <td>Wai Wai</td>\n",
       "      <td>Tom Yum Chili Flavor</td>\n",
       "      <td>Pack</td>\n",
       "      <td>Thailand</td>\n",
       "      <td>2</td>\n",
       "      <td>NaN</td>\n",
       "    </tr>\n",
       "    <tr>\n",
       "      <th>2579</th>\n",
       "      <td>1</td>\n",
       "      <td>Westbrae</td>\n",
       "      <td>Miso Ramen</td>\n",
       "      <td>Pack</td>\n",
       "      <td>USA</td>\n",
       "      <td>0.5</td>\n",
       "      <td>NaN</td>\n",
       "    </tr>\n",
       "  </tbody>\n",
       "</table>\n",
       "</div>"
      ],
      "text/plain": [
       "      Review #     Brand                                            Variety  \\\n",
       "2575         5     Vifon  Hu Tiu Nam Vang [\"Phnom Penh\" style] Asian Sty...   \n",
       "2576         4   Wai Wai                     Oriental Style Instant Noodles   \n",
       "2577         3   Wai Wai                                     Tom Yum Shrimp   \n",
       "2578         2   Wai Wai                               Tom Yum Chili Flavor   \n",
       "2579         1  Westbrae                                         Miso Ramen   \n",
       "\n",
       "     Style   Country Stars Top Ten  \n",
       "2575  Bowl   Vietnam   3.5     NaN  \n",
       "2576  Pack  Thailand     1     NaN  \n",
       "2577  Pack  Thailand     2     NaN  \n",
       "2578  Pack  Thailand     2     NaN  \n",
       "2579  Pack       USA   0.5     NaN  "
      ]
     },
     "execution_count": 5,
     "metadata": {},
     "output_type": "execute_result"
    }
   ],
   "source": [
    "ramen.tail()"
   ]
  },
  {
   "cell_type": "code",
   "execution_count": 6,
   "id": "f11dc646",
   "metadata": {
    "execution": {
     "iopub.execute_input": "2024-02-16T08:00:45.605119Z",
     "iopub.status.busy": "2024-02-16T08:00:45.604299Z",
     "iopub.status.idle": "2024-02-16T08:00:45.614482Z",
     "shell.execute_reply": "2024-02-16T08:00:45.613267Z"
    },
    "executionInfo": {
     "elapsed": 355,
     "status": "ok",
     "timestamp": 1708070974311,
     "user": {
      "displayName": "balqis uslim",
      "userId": "17685182824634886674"
     },
     "user_tz": -480
    },
    "id": "s48cgZG0Zf0t",
    "outputId": "0087065e-a713-4106-ffdb-f71fcea221c9",
    "papermill": {
     "duration": 0.028414,
     "end_time": "2024-02-16T08:00:45.617300",
     "exception": false,
     "start_time": "2024-02-16T08:00:45.588886",
     "status": "completed"
    },
    "tags": []
   },
   "outputs": [
    {
     "data": {
      "text/plain": [
       "Review #     int64\n",
       "Brand       object\n",
       "Variety     object\n",
       "Style       object\n",
       "Country     object\n",
       "Stars       object\n",
       "Top Ten     object\n",
       "dtype: object"
      ]
     },
     "execution_count": 6,
     "metadata": {},
     "output_type": "execute_result"
    }
   ],
   "source": [
    "ramen.dtypes"
   ]
  },
  {
   "cell_type": "markdown",
   "id": "7ba6c678",
   "metadata": {
    "id": "jLA_IZv4daYI",
    "papermill": {
     "duration": 0.012598,
     "end_time": "2024-02-16T08:00:45.642982",
     "exception": false,
     "start_time": "2024-02-16T08:00:45.630384",
     "status": "completed"
    },
    "tags": []
   },
   "source": [
    "# Inspect the dataframe"
   ]
  },
  {
   "cell_type": "code",
   "execution_count": 7,
   "id": "e6a05817",
   "metadata": {
    "execution": {
     "iopub.execute_input": "2024-02-16T08:00:45.671511Z",
     "iopub.status.busy": "2024-02-16T08:00:45.671008Z",
     "iopub.status.idle": "2024-02-16T08:00:45.678968Z",
     "shell.execute_reply": "2024-02-16T08:00:45.677733Z"
    },
    "executionInfo": {
     "elapsed": 7,
     "status": "ok",
     "timestamp": 1708070976016,
     "user": {
      "displayName": "balqis uslim",
      "userId": "17685182824634886674"
     },
     "user_tz": -480
    },
    "id": "k4KcvELBdes_",
    "outputId": "9faee570-cbc1-4f6f-d477-5c95850f1d45",
    "papermill": {
     "duration": 0.025558,
     "end_time": "2024-02-16T08:00:45.681728",
     "exception": false,
     "start_time": "2024-02-16T08:00:45.656170",
     "status": "completed"
    },
    "tags": []
   },
   "outputs": [
    {
     "data": {
      "text/plain": [
       "Index(['Review #', 'Brand', 'Variety', 'Style', 'Country', 'Stars', 'Top Ten'], dtype='object')"
      ]
     },
     "execution_count": 7,
     "metadata": {},
     "output_type": "execute_result"
    }
   ],
   "source": [
    "ramen.columns"
   ]
  },
  {
   "cell_type": "code",
   "execution_count": 8,
   "id": "dbf8d6c8",
   "metadata": {
    "execution": {
     "iopub.execute_input": "2024-02-16T08:00:45.714541Z",
     "iopub.status.busy": "2024-02-16T08:00:45.713852Z",
     "iopub.status.idle": "2024-02-16T08:00:45.754434Z",
     "shell.execute_reply": "2024-02-16T08:00:45.752720Z"
    },
    "executionInfo": {
     "elapsed": 5,
     "status": "ok",
     "timestamp": 1708070977420,
     "user": {
      "displayName": "balqis uslim",
      "userId": "17685182824634886674"
     },
     "user_tz": -480
    },
    "id": "kiwgoFnOdhsi",
    "outputId": "3a783121-9c59-4cbd-d9ba-8a95e7dc06e4",
    "papermill": {
     "duration": 0.05996,
     "end_time": "2024-02-16T08:00:45.757588",
     "exception": false,
     "start_time": "2024-02-16T08:00:45.697628",
     "status": "completed"
    },
    "tags": []
   },
   "outputs": [
    {
     "name": "stdout",
     "output_type": "stream",
     "text": [
      "<class 'pandas.core.frame.DataFrame'>\n",
      "RangeIndex: 2580 entries, 0 to 2579\n",
      "Data columns (total 7 columns):\n",
      " #   Column    Non-Null Count  Dtype \n",
      "---  ------    --------------  ----- \n",
      " 0   Review #  2580 non-null   int64 \n",
      " 1   Brand     2580 non-null   object\n",
      " 2   Variety   2580 non-null   object\n",
      " 3   Style     2578 non-null   object\n",
      " 4   Country   2580 non-null   object\n",
      " 5   Stars     2580 non-null   object\n",
      " 6   Top Ten   41 non-null     object\n",
      "dtypes: int64(1), object(6)\n",
      "memory usage: 141.2+ KB\n"
     ]
    }
   ],
   "source": [
    "ramen.info()"
   ]
  },
  {
   "cell_type": "markdown",
   "id": "214efea9",
   "metadata": {
    "id": "tlEEszQvZHEe",
    "papermill": {
     "duration": 0.012838,
     "end_time": "2024-02-16T08:00:45.784748",
     "exception": false,
     "start_time": "2024-02-16T08:00:45.771910",
     "status": "completed"
    },
    "tags": []
   },
   "source": [
    "# How is ramen brands is internationally distributed?"
   ]
  },
  {
   "cell_type": "code",
   "execution_count": 9,
   "id": "fe1d23f0",
   "metadata": {
    "execution": {
     "iopub.execute_input": "2024-02-16T08:00:45.814025Z",
     "iopub.status.busy": "2024-02-16T08:00:45.813119Z",
     "iopub.status.idle": "2024-02-16T08:00:45.821292Z",
     "shell.execute_reply": "2024-02-16T08:00:45.820196Z"
    },
    "executionInfo": {
     "elapsed": 2,
     "status": "ok",
     "timestamp": 1708070979458,
     "user": {
      "displayName": "balqis uslim",
      "userId": "17685182824634886674"
     },
     "user_tz": -480
    },
    "id": "iml_TrtDXDWu",
    "outputId": "2afa3573-8f25-4c36-cae6-93ebd00da9cd",
    "papermill": {
     "duration": 0.025434,
     "end_time": "2024-02-16T08:00:45.823606",
     "exception": false,
     "start_time": "2024-02-16T08:00:45.798172",
     "status": "completed"
    },
    "tags": []
   },
   "outputs": [
    {
     "data": {
      "text/plain": [
       "array(['Japan', 'Taiwan', 'USA', 'India', 'South Korea', 'Singapore',\n",
       "       'Thailand', 'Hong Kong', 'Vietnam', 'Ghana', 'Malaysia',\n",
       "       'Indonesia', 'China', 'Nigeria', 'Germany', 'Hungary', 'Mexico',\n",
       "       'Fiji', 'Australia', 'Pakistan', 'Bangladesh', 'Canada', 'Nepal',\n",
       "       'Brazil', 'UK', 'Myanmar', 'Netherlands', 'United States',\n",
       "       'Cambodia', 'Finland', 'Sarawak', 'Philippines', 'Sweden',\n",
       "       'Colombia', 'Estonia', 'Holland', 'Poland', 'Dubai'], dtype=object)"
      ]
     },
     "execution_count": 9,
     "metadata": {},
     "output_type": "execute_result"
    }
   ],
   "source": [
    "ramen['Country'].unique()"
   ]
  },
  {
   "cell_type": "code",
   "execution_count": 10,
   "id": "61290802",
   "metadata": {
    "execution": {
     "iopub.execute_input": "2024-02-16T08:00:45.853168Z",
     "iopub.status.busy": "2024-02-16T08:00:45.852304Z",
     "iopub.status.idle": "2024-02-16T08:00:45.858781Z",
     "shell.execute_reply": "2024-02-16T08:00:45.857869Z"
    },
    "executionInfo": {
     "elapsed": 524,
     "status": "ok",
     "timestamp": 1708070982043,
     "user": {
      "displayName": "balqis uslim",
      "userId": "17685182824634886674"
     },
     "user_tz": -480
    },
    "id": "yBCo3JxhhqEQ",
    "papermill": {
     "duration": 0.024264,
     "end_time": "2024-02-16T08:00:45.861216",
     "exception": false,
     "start_time": "2024-02-16T08:00:45.836952",
     "status": "completed"
    },
    "tags": []
   },
   "outputs": [],
   "source": [
    "sort_countries = ramen['Country'].value_counts().sort_values(ascending=False)"
   ]
  },
  {
   "cell_type": "code",
   "execution_count": 11,
   "id": "c48d9e7e",
   "metadata": {
    "execution": {
     "iopub.execute_input": "2024-02-16T08:00:45.891697Z",
     "iopub.status.busy": "2024-02-16T08:00:45.890843Z",
     "iopub.status.idle": "2024-02-16T08:00:46.767977Z",
     "shell.execute_reply": "2024-02-16T08:00:46.766566Z"
    },
    "executionInfo": {
     "elapsed": 1848,
     "status": "ok",
     "timestamp": 1708070984939,
     "user": {
      "displayName": "balqis uslim",
      "userId": "17685182824634886674"
     },
     "user_tz": -480
    },
    "id": "3xF1eJZJe55c",
    "outputId": "0c0dfc0a-c6bf-4c83-ca06-c954ff4e3868",
    "papermill": {
     "duration": 0.89615,
     "end_time": "2024-02-16T08:00:46.771008",
     "exception": false,
     "start_time": "2024-02-16T08:00:45.874858",
     "status": "completed"
    },
    "tags": []
   },
   "outputs": [
    {
     "data": {
      "text/plain": [
       "<seaborn.axisgrid.FacetGrid at 0x78847fc79390>"
      ]
     },
     "execution_count": 11,
     "metadata": {},
     "output_type": "execute_result"
    },
    {
     "data": {
      "image/png": "[encoded data removed]",
      "text/plain": [
       "<Figure size 500x500 with 1 Axes>"
      ]
     },
     "metadata": {},
     "output_type": "display_data"
    }
   ],
   "source": [
    "sns.catplot(data=ramen, y='Country' , kind='count', palette='pastel', order=sort_countries.index)\n",
    "\n",
    "##count = does count the frequency of the country which exists in the dataset\n"
   ]
  },
  {
   "cell_type": "markdown",
   "id": "cb34e9dc",
   "metadata": {
    "id": "s9r_6_Axjp_v",
    "papermill": {
     "duration": 0.015623,
     "end_time": "2024-02-16T08:00:46.801544",
     "exception": false,
     "start_time": "2024-02-16T08:00:46.785921",
     "status": "completed"
    },
    "tags": []
   },
   "source": [
    "we can see that Japan has the highest distribution of ramen. overall the top 10 dominators are asian countries."
   ]
  },
  {
   "cell_type": "markdown",
   "id": "7e4c1fc7",
   "metadata": {
    "id": "2swWKdpEkFwg",
    "papermill": {
     "duration": 0.014696,
     "end_time": "2024-02-16T08:00:46.831178",
     "exception": false,
     "start_time": "2024-02-16T08:00:46.816482",
     "status": "completed"
    },
    "tags": []
   },
   "source": [
    "# What are the top 10 ramen brands?"
   ]
  },
  {
   "cell_type": "code",
   "execution_count": 12,
   "id": "fa0c7ecf",
   "metadata": {
    "execution": {
     "iopub.execute_input": "2024-02-16T08:00:46.862762Z",
     "iopub.status.busy": "2024-02-16T08:00:46.862242Z",
     "iopub.status.idle": "2024-02-16T08:00:46.874927Z",
     "shell.execute_reply": "2024-02-16T08:00:46.873485Z"
    },
    "executionInfo": {
     "elapsed": 4,
     "status": "ok",
     "timestamp": 1708070985289,
     "user": {
      "displayName": "balqis uslim",
      "userId": "17685182824634886674"
     },
     "user_tz": -480
    },
    "id": "Z-n84zYOjcPw",
    "outputId": "0fa19bdc-001d-4f97-ca47-e0a5002a531e",
    "papermill": {
     "duration": 0.031793,
     "end_time": "2024-02-16T08:00:46.877823",
     "exception": false,
     "start_time": "2024-02-16T08:00:46.846030",
     "status": "completed"
    },
    "tags": []
   },
   "outputs": [
    {
     "data": {
      "text/plain": [
       "array(['New Touch', 'Just Way', 'Nissin', 'Wei Lih', \"Ching's Secret\",\n",
       "       'Samyang Foods', 'Acecook', 'Ikeda Shoku', \"Ripe'n'Dry\", 'KOKA',\n",
       "       'Tao Kae Noi', 'Yamachan', 'Nongshim', 'TRDP', 'Binh Tay', 'Paldo',\n",
       "       'Jackpot Teriyaki', 'Yum-Mie', 'MyKuali', 'Ottogi',\n",
       "       'Sichuan Guangyou', 'Lipton', 'Lele', 'Fujiwara', 'Uni-President',\n",
       "       'Maruchan', 'Prima', 'Sokensha', 'Takamori', 'Guava Story',\n",
       "       'Samurai Ramen', 'Ogasawara', 'Pringles', \"Mom's Dry Noodle\",\n",
       "       'Maggi', 'Indomie', 'Happy Cook', 'The Ramen Rater Select', 'TTL',\n",
       "       'E-Zee', 'Kiki Noodle', 'Tokyo Noodle', 'GGE', 'Myojo', 'Sau Tao',\n",
       "       'Wang', 'Daifuku', 'Master Kong', \"World O' Noodle\", 'Kang Shi Fu',\n",
       "       'Mum Ngon', 'Fashion Food', 'Dream Kitchen', 'Ajinatori',\n",
       "       \"Dr. McDougall's\", 'Ve Wong', 'Super Bihun', 'Xiuhe',\n",
       "       'Little Cook', 'Shirakiku', \"Mama Pat's\", 'Goku-Uma',\n",
       "       'Sichuan Baijia', 'Liang Cheng Mai', 'Gefen', 'Hua Feng',\n",
       "       'Pulmuone', 'Liu Quan', 'Daikoku', 'Chuan Wei Wang', 'Wai Wai',\n",
       "       'Kamfen', 'Marutai', 'Vifon', '1 To 3 Noodles', 'Fantastic',\n",
       "       'Knorr', 'Sempio', 'Patanjali', 'Qin Zong', 'Pran',\n",
       "       'Sapporo Ichiban', 'MAMA', 'Xiao Ban Mian', 'Suimin', 'Cintan',\n",
       "       'JML', 'Unif Tung-I', 'Tablemark', \"Farmer's Heart\", 'Fuku',\n",
       "       'Singa-Me', 'Love Cook', 'Great Value', 'Asian Thai Foods',\n",
       "       'Nagatanien', 'Nyor Nyar', 'Tseng Noodles', 'A-Sha Dry Noodle',\n",
       "       'Morre', 'Roland', \"Mr. Lee's Noodles\", 'Choumama',\n",
       "       'President Rice', 'Happy Family', 'Menraku', 'La Moderna',\n",
       "       'Jingqi', 'Thien Houng Foods', 'Doll', 'Four Seas', 'CarJEN',\n",
       "       '7 Select', 'Oni Hot Pot', 'Weh Lih', 'Itomen', 'Sanpo',\n",
       "       'Mi Sedaap', 'Tokushima Seifun', 'Mamee', 'Zow Zow', 'Koyo',\n",
       "       'ORee Garden', 'A1', 'Migawon', \"Chaudhary's Wai Wai\",\n",
       "       'Urban Noodle', 'Trident', 'Conimex', 'Prima Taste', 'MyOri',\n",
       "       'Itsuki', 'Kabuto Noodles', 'IbuRamen', 'Koh Thai', 'Bamee',\n",
       "       'Ibumie', 'Unox', 'Fortune', 'Bonasia', 'Mie Sedaap', 'iMee',\n",
       "       'Thai Smile', 'Asia Gold', 'Pirkka', 'Higashimaru', 'Kuriki',\n",
       "       'Vedan', 'Yum Yum', 'Mama', 'Baijia', 'Daraz', 'Pama', 'Seven & I',\n",
       "       'Forest Noodles', \"Vit's\", 'Ten-In', 'Sugakiya Foods', 'Hao Way',\n",
       "       'Nakaya Shouten', 'Thai Chef', 'Crystal Noodle', 'Azami', 'Super',\n",
       "       'Torishi', 'Western Family', 'Chering Chang', 'Ishimaru',\n",
       "       'Authentically Asian', 'Aroi', 'Koka', 'Wu-Mu', 'Yamadai',\n",
       "       'Vina Acecook', 'Baixiang Noodles', 'Salam Mie', 'Lee Fah Mee',\n",
       "       'Sakurai Foods', 'The Kitchen Food', 'Premiere', '7 Select/Nissin',\n",
       "       'Wugudaochang', 'Emart', 'Lishan Food Manufacturing', 'Ah Lai',\n",
       "       'Tropicana Slim', 'A-One', 'Deshome', 'Paldo Vina', 'Chencun',\n",
       "       'United', 'ChoripDong', 'Shan', 'Ruski', 'No Name', 'New Way',\n",
       "       'Lucky Me!', \"Campbell's\", 'One Dish Asia', 'Long Jun Hang',\n",
       "       'Unif-100', 'Hankow', 'The Bridge', 'Mitoku', 'Unzen', 'Uncle Sun',\n",
       "       'Mi E-Zee', 'E-mi', 'J.J.', 'Curry Prince', 'Econsave', 'Oyatsu',\n",
       "       'Kin-Dee', 'Ko-Lee', 'ICA', 'Nanyang Chef', 'Thai Pavilion',\n",
       "       'Miliket', 'Katoz', 'Men-Sunaoshi', 'Chewy', 'Adabi',\n",
       "       'Osaka Ramen', \"Sainsbury's\", 'Pamana', \"Annie Chun's\", 'La Fonte',\n",
       "       'Thai Choice', 'Tesco', 'Pop Bihun', 'Snapdragon', 'Saji',\n",
       "       'Miracle Noodle', 'Tiger Tiger', 'Takamori Kosan', 'Papa',\n",
       "       'Sawadee', 'Golden Wheat', 'Lotus Foods', 'Plats Du Chef',\n",
       "       'Batchelors', 'Sakura Noodle', 'Unif', 'Hi-Myon', 'Healtimie',\n",
       "       'Thai Kitchen', 'Mr. Noodles', 'Good Tto Leu Foods', 'GaGa',\n",
       "       'Kimura', 'Tokachimen Koubou', 'ABC', 'Eat & Go', 'President',\n",
       "       'SuperMi', 'Kumamoto', 'HoMyeonDang', 'Nan Jie Cun', 'China Best',\n",
       "       'Sanrio', 'Peyang', 'Golden Wonder', 'Komforte Chockolates',\n",
       "       'Nagao Noodle', 'Maitri', 'GS25', 'Baltix', 'Amianda',\n",
       "       'Tasty Bite', 'Star Anise Foods', 'Tradition', 'Amino',\n",
       "       'Pot Noodle', 'Sun Noodle', 'S&S', 'Springlife', 'Right Foods',\n",
       "       'Sunlee', 'Goku Uma', 'Daddy', \"Han's South Korea\", 'Sarimi',\n",
       "       'FMF', 'Long Kow', 'Unif / Tung-I', 'Song Hak', 'Fuji Mengyo',\n",
       "       'Dragonfly', 'CJ CheilJedang', 'Dongwon', 'Seven-Eleven', 'Souper',\n",
       "       \"Kim's Bowl\", 'Ohsung', 'Gau Do', 'Golden Mie', 'GreeNoodle',\n",
       "       'Kailo', 'Fashion Foods', 'Hosoonyi', 'Payless', 'Yamamoto',\n",
       "       'Saigon Ve Wong', 'Wu Mu', 'Mee Jang', 'JFC', 'Samyang',\n",
       "       'Mug Shot', 'Lishan', 'Cap Atoom Bulan', 'Sura', 'Wei Chuan',\n",
       "       'Yamamori', 'Mr. Udon', 'Omachi', 'Wei Wei', 'Six Fortune',\n",
       "       'Haioreum', 'Sunlight', 'Noah Foods', 'O Sung', 'Foodmon',\n",
       "       'Sahmyook', 'Nan Hsing', 'Mexi-Ramen', 'Hsin Tung Yang', 'Sao Tao',\n",
       "       'iNoodle', 'Quickchow', 'Chikara', 'Q', 'Noodle Time', 'Gomex',\n",
       "       'US Canning', 'Rhee Bros Assi', 'Bon Go Jang', 'Tayho',\n",
       "       'Sunny Maid', 'Royal Umbrella', 'Tiger',\n",
       "       'Fu Chang Chinese Noodle Company', 'Sanyo Foods', 'Rocket Brand',\n",
       "       'Boss', 'Chorip Dong', 'Higashi', 'Sakurai', 'Global Inspiration',\n",
       "       'Teriyaki Time', 'Hua Feng Noodle Expert', 'Kim Ve Wong', 'Smack',\n",
       "       'Sutah', 'Tung-I', 'Westbrae'], dtype=object)"
      ]
     },
     "execution_count": 12,
     "metadata": {},
     "output_type": "execute_result"
    }
   ],
   "source": [
    "ramen['Brand'].unique()"
   ]
  },
  {
   "cell_type": "code",
   "execution_count": 13,
   "id": "285ef7f7",
   "metadata": {
    "execution": {
     "iopub.execute_input": "2024-02-16T08:00:46.909757Z",
     "iopub.status.busy": "2024-02-16T08:00:46.909247Z",
     "iopub.status.idle": "2024-02-16T08:00:46.920108Z",
     "shell.execute_reply": "2024-02-16T08:00:46.917977Z"
    },
    "executionInfo": {
     "elapsed": 374,
     "status": "ok",
     "timestamp": 1708070988304,
     "user": {
      "displayName": "balqis uslim",
      "userId": "17685182824634886674"
     },
     "user_tz": -480
    },
    "id": "UlNayf8_kTlS",
    "outputId": "321bfce5-1610-4664-89a4-5b5e77adf919",
    "papermill": {
     "duration": 0.029794,
     "end_time": "2024-02-16T08:00:46.922689",
     "exception": false,
     "start_time": "2024-02-16T08:00:46.892895",
     "status": "completed"
    },
    "tags": []
   },
   "outputs": [
    {
     "name": "stdout",
     "output_type": "stream",
     "text": [
      "Brand\n",
      "Nissin                381\n",
      "Nongshim               98\n",
      "Maruchan               76\n",
      "Mama                   71\n",
      "Paldo                  66\n",
      "                     ... \n",
      "Chorip Dong             1\n",
      "Higashi                 1\n",
      "Sakurai                 1\n",
      "Global Inspiration      1\n",
      "Westbrae                1\n",
      "Name: count, Length: 355, dtype: int64\n"
     ]
    }
   ],
   "source": [
    "count_brand = ramen['Brand'].value_counts().sort_values(ascending=False)\n",
    "print(count_brand)"
   ]
  },
  {
   "cell_type": "code",
   "execution_count": 14,
   "id": "0aa5bb5a",
   "metadata": {
    "execution": {
     "iopub.execute_input": "2024-02-16T08:00:46.954675Z",
     "iopub.status.busy": "2024-02-16T08:00:46.954188Z",
     "iopub.status.idle": "2024-02-16T08:00:46.961033Z",
     "shell.execute_reply": "2024-02-16T08:00:46.959390Z"
    },
    "executionInfo": {
     "elapsed": 397,
     "status": "ok",
     "timestamp": 1708068165317,
     "user": {
      "displayName": "balqis uslim",
      "userId": "17685182824634886674"
     },
     "user_tz": -480
    },
    "id": "A2yfskyKkm7i",
    "papermill": {
     "duration": 0.026042,
     "end_time": "2024-02-16T08:00:46.963843",
     "exception": false,
     "start_time": "2024-02-16T08:00:46.937801",
     "status": "completed"
    },
    "tags": []
   },
   "outputs": [],
   "source": [
    "top_10_brands = count_brand.head(10)"
   ]
  },
  {
   "cell_type": "code",
   "execution_count": 15,
   "id": "68ee7527",
   "metadata": {
    "execution": {
     "iopub.execute_input": "2024-02-16T08:00:46.995904Z",
     "iopub.status.busy": "2024-02-16T08:00:46.995380Z",
     "iopub.status.idle": "2024-02-16T08:00:47.351112Z",
     "shell.execute_reply": "2024-02-16T08:00:47.349777Z"
    },
    "executionInfo": {
     "elapsed": 1032,
     "status": "ok",
     "timestamp": 1708070990793,
     "user": {
      "displayName": "balqis uslim",
      "userId": "17685182824634886674"
     },
     "user_tz": -480
    },
    "id": "iGgODZ1QlKB2",
    "outputId": "cb846d12-0107-4e23-bb4d-f1dacc002729",
    "papermill": {
     "duration": 0.374981,
     "end_time": "2024-02-16T08:00:47.353994",
     "exception": false,
     "start_time": "2024-02-16T08:00:46.979013",
     "status": "completed"
    },
    "tags": []
   },
   "outputs": [
    {
     "data": {
      "text/plain": [
       "[Text(0.5, 1.0, 'Top 10 ramen Brands'),\n",
       " Text(0.5, 0, 'frequency'),\n",
       " Text(0, 0.5, 'Brand')]"
      ]
     },
     "execution_count": 15,
     "metadata": {},
     "output_type": "execute_result"
    },
    {
     "data": {
      "image/png": "[encoded data removed]",
      "text/plain": [
       "<Figure size 640x480 with 1 Axes>"
      ]
     },
     "metadata": {},
     "output_type": "display_data"
    }
   ],
   "source": [
    "#create barplot\n",
    "sns.barplot(x=top_10_brands.values, y=top_10_brands.index, palette='pastel').set(title='Top 10 ramen Brands', xlabel='frequency', ylabel='Brand')"
   ]
  },
  {
   "cell_type": "markdown",
   "id": "4e48c7b4",
   "metadata": {
    "id": "aHDwSe3ZyRsP",
    "papermill": {
     "duration": 0.01629,
     "end_time": "2024-02-16T08:00:47.386297",
     "exception": false,
     "start_time": "2024-02-16T08:00:47.370007",
     "status": "completed"
    },
    "tags": []
   },
   "source": [
    "# What type of ramen is the most famous?"
   ]
  },
  {
   "cell_type": "code",
   "execution_count": 16,
   "id": "ecd197cb",
   "metadata": {
    "execution": {
     "iopub.execute_input": "2024-02-16T08:00:47.424289Z",
     "iopub.status.busy": "2024-02-16T08:00:47.423783Z",
     "iopub.status.idle": "2024-02-16T08:00:47.433488Z",
     "shell.execute_reply": "2024-02-16T08:00:47.431949Z"
    },
    "executionInfo": {
     "elapsed": 2,
     "status": "ok",
     "timestamp": 1708070991916,
     "user": {
      "displayName": "balqis uslim",
      "userId": "17685182824634886674"
     },
     "user_tz": -480
    },
    "id": "c2VD9yOpyXkt",
    "outputId": "ad692c1c-74fb-4e02-ef5c-7e891f703c89",
    "papermill": {
     "duration": 0.033972,
     "end_time": "2024-02-16T08:00:47.438020",
     "exception": false,
     "start_time": "2024-02-16T08:00:47.404048",
     "status": "completed"
    },
    "tags": []
   },
   "outputs": [
    {
     "name": "stdout",
     "output_type": "stream",
     "text": [
      "Style\n",
      "Pack    1531\n",
      "Bowl     481\n",
      "Cup      450\n",
      "Tray     108\n",
      "Box        6\n",
      "Can        1\n",
      "Bar        1\n",
      "Name: count, dtype: int64\n"
     ]
    }
   ],
   "source": [
    "ramen_style_count = ramen['Style'].value_counts().sort_values(ascending=False)\n",
    "print(ramen_style_count)"
   ]
  },
  {
   "cell_type": "code",
   "execution_count": 17,
   "id": "e17f392c",
   "metadata": {
    "execution": {
     "iopub.execute_input": "2024-02-16T08:00:47.474817Z",
     "iopub.status.busy": "2024-02-16T08:00:47.474297Z",
     "iopub.status.idle": "2024-02-16T08:00:47.771538Z",
     "shell.execute_reply": "2024-02-16T08:00:47.770275Z"
    },
    "executionInfo": {
     "elapsed": 638,
     "status": "ok",
     "timestamp": 1708070994824,
     "user": {
      "displayName": "balqis uslim",
      "userId": "17685182824634886674"
     },
     "user_tz": -480
    },
    "id": "xNrXGd0YzFZ9",
    "outputId": "30cc4455-87d2-47f7-928f-b2e36d523945",
    "papermill": {
     "duration": 0.319543,
     "end_time": "2024-02-16T08:00:47.774597",
     "exception": false,
     "start_time": "2024-02-16T08:00:47.455054",
     "status": "completed"
    },
    "tags": []
   },
   "outputs": [
    {
     "data": {
      "text/plain": [
       "[Text(0.5, 1.0, 'Distribution of Ramen Types'),\n",
       " Text(0.5, 0, 'Frequency'),\n",
       " Text(0, 0.5, 'Ramen Type')]"
      ]
     },
     "execution_count": 17,
     "metadata": {},
     "output_type": "execute_result"
    },
    {
     "data": {
      "image/png": "[encoded data removed]",
      "text/plain": [
       "<Figure size 640x480 with 1 Axes>"
      ]
     },
     "metadata": {},
     "output_type": "display_data"
    }
   ],
   "source": [
    "sns.countplot(y='Style', data=ramen, palette='pastel', order=ramen_style_count.index).set(title=\"Distribution of Ramen Types\", xlabel='Frequency', ylabel='Ramen Type')"
   ]
  },
  {
   "cell_type": "markdown",
   "id": "f534bfd6",
   "metadata": {
    "id": "THl8z5sw4Wa8",
    "papermill": {
     "duration": 0.015738,
     "end_time": "2024-02-16T08:00:47.806714",
     "exception": false,
     "start_time": "2024-02-16T08:00:47.790976",
     "status": "completed"
    },
    "tags": []
   },
   "source": [
    "The most famous ramen type is in packs, followed by bowl in the second place"
   ]
  },
  {
   "cell_type": "markdown",
   "id": "83c9ed55",
   "metadata": {
    "id": "RsBlwslw4oQl",
    "papermill": {
     "duration": 0.01592,
     "end_time": "2024-02-16T08:00:47.838823",
     "exception": false,
     "start_time": "2024-02-16T08:00:47.822903",
     "status": "completed"
    },
    "tags": []
   },
   "source": [
    "# Filter Maggi Brand (focusing on malaysia market)\n",
    "\n"
   ]
  },
  {
   "cell_type": "code",
   "execution_count": 18,
   "id": "1be6d529",
   "metadata": {
    "execution": {
     "iopub.execute_input": "2024-02-16T08:00:47.873677Z",
     "iopub.status.busy": "2024-02-16T08:00:47.873198Z",
     "iopub.status.idle": "2024-02-16T08:00:47.888600Z",
     "shell.execute_reply": "2024-02-16T08:00:47.887577Z"
    },
    "executionInfo": {
     "elapsed": 339,
     "status": "ok",
     "timestamp": 1708070997498,
     "user": {
      "displayName": "balqis uslim",
      "userId": "17685182824634886674"
     },
     "user_tz": -480
    },
    "id": "hZ8biHS74rON",
    "outputId": "8b85868a-11af-4b6d-c751-8c5d14648bb8",
    "papermill": {
     "duration": 0.036453,
     "end_time": "2024-02-16T08:00:47.891398",
     "exception": false,
     "start_time": "2024-02-16T08:00:47.854945",
     "status": "completed"
    },
    "tags": []
   },
   "outputs": [
    {
     "name": "stdout",
     "output_type": "stream",
     "text": [
      "      Review #  Brand                                            Variety  \\\n",
      "874       1706  Maggi                Hot Cup Goreng Perencah Cili Fiesta   \n",
      "974       1606  Maggi                      Perencah Kari Letup Mi Segera   \n",
      "1011      1569  Maggi                        Mi Goreng Perencah Kari Ori   \n",
      "1066      1514  Maggi                        Royale Penang Seafood Curry   \n",
      "1146      1434  Maggi                                Hot Cup Perisa Kari   \n",
      "1340      1240  Maggi  Big Kari Perencah (Big Curry Flavor) 2 Minute ...   \n",
      "1736       844  Maggi               2 Minute Noodles Perencah Asam Laksa   \n",
      "2390       190  Maggi                                   Perencah Tom Yam   \n",
      "\n",
      "     Style   Country Stars Top Ten  \n",
      "874    Cup  Malaysia  4.75     NaN  \n",
      "974   Pack  Malaysia     4     NaN  \n",
      "1011  Pack  Malaysia     4     NaN  \n",
      "1066  Pack  Malaysia   4.5     NaN  \n",
      "1146   Cup  Malaysia   3.5     NaN  \n",
      "1340  Pack  Malaysia     4     NaN  \n",
      "1736  Pack  Malaysia     4     NaN  \n",
      "2390  Pack  Malaysia   2.9     NaN  \n"
     ]
    }
   ],
   "source": [
    "maggi_brandmy = ramen[(ramen['Brand'] == \"Maggi\") & (ramen['Country'] == \"Malaysia\")]\n",
    "print(maggi_brandmy)"
   ]
  },
  {
   "cell_type": "markdown",
   "id": "c2a38903",
   "metadata": {
    "id": "0QwTrBjp5cxl",
    "papermill": {
     "duration": 0.015875,
     "end_time": "2024-02-16T08:00:47.924476",
     "exception": false,
     "start_time": "2024-02-16T08:00:47.908601",
     "status": "completed"
    },
    "tags": []
   },
   "source": [
    " Now for malaysia market, I want to find other ramen brands that has the same ratings as maggi, considering we are boycotting the brand."
   ]
  },
  {
   "cell_type": "code",
   "execution_count": 19,
   "id": "a443b657",
   "metadata": {
    "execution": {
     "iopub.execute_input": "2024-02-16T08:00:47.959481Z",
     "iopub.status.busy": "2024-02-16T08:00:47.958973Z",
     "iopub.status.idle": "2024-02-16T08:00:47.971345Z",
     "shell.execute_reply": "2024-02-16T08:00:47.970304Z"
    },
    "executionInfo": {
     "elapsed": 343,
     "status": "ok",
     "timestamp": 1708070999925,
     "user": {
      "displayName": "balqis uslim",
      "userId": "17685182824634886674"
     },
     "user_tz": -480
    },
    "id": "Si09_20t5m-n",
    "outputId": "c88801b5-9cdb-4382-dabf-d9e8b93ba903",
    "papermill": {
     "duration": 0.033194,
     "end_time": "2024-02-16T08:00:47.974133",
     "exception": false,
     "start_time": "2024-02-16T08:00:47.940939",
     "status": "completed"
    },
    "tags": []
   },
   "outputs": [
    {
     "name": "stdout",
     "output_type": "stream",
     "text": [
      "Maggi has the rating of:  4.75\n",
      "Other brands that have the same rating as maggi: \n",
      "['MyKuali' 'Hao Way' 'Nanyang Chef' 'Mamee']\n"
     ]
    }
   ],
   "source": [
    "#get maggi rating first\n",
    "maggi_rating = maggi_brandmy['Stars'].iloc[0]\n",
    "\n",
    "#get dataframe to only include brands that that have the same rating as maggi\n",
    "subtomaggi = ramen[(ramen['Country'] == \"Malaysia\") & (ramen['Stars'] == maggi_rating) & (ramen['Brand'] != 'Maggi')]\n",
    "\n",
    "print(\"Maggi has the rating of: \", maggi_rating)\n",
    "print(\"Other brands that have the same rating as maggi: \")\n",
    "print(subtomaggi['Brand'].unique())"
   ]
  },
  {
   "cell_type": "markdown",
   "id": "42c2a644",
   "metadata": {
    "id": "wOUeb3eK8laj",
    "papermill": {
     "duration": 0.016779,
     "end_time": "2024-02-16T08:00:48.008571",
     "exception": false,
     "start_time": "2024-02-16T08:00:47.991792",
     "status": "completed"
    },
    "tags": []
   },
   "source": [
    "could adabi brand compete with maggi?"
   ]
  },
  {
   "cell_type": "code",
   "execution_count": 20,
   "id": "b8f02ede",
   "metadata": {
    "execution": {
     "iopub.execute_input": "2024-02-16T08:00:48.044137Z",
     "iopub.status.busy": "2024-02-16T08:00:48.043620Z",
     "iopub.status.idle": "2024-02-16T08:00:48.056428Z",
     "shell.execute_reply": "2024-02-16T08:00:48.055042Z"
    },
    "executionInfo": {
     "elapsed": 328,
     "status": "ok",
     "timestamp": 1708071002930,
     "user": {
      "displayName": "balqis uslim",
      "userId": "17685182824634886674"
     },
     "user_tz": -480
    },
    "id": "xqrFN5_w8pqN",
    "outputId": "12ca2816-0978-42c4-e91a-78ef77863691",
    "papermill": {
     "duration": 0.033561,
     "end_time": "2024-02-16T08:00:48.058857",
     "exception": false,
     "start_time": "2024-02-16T08:00:48.025296",
     "status": "completed"
    },
    "tags": []
   },
   "outputs": [
    {
     "name": "stdout",
     "output_type": "stream",
     "text": [
      "      Review #  Brand                                    Variety Style  \\\n",
      "1141      1439  Adabi  Mi Segera Mi Goreng Pedas Instant Noodles  Pack   \n",
      "1170      1410  Adabi          Mi Segera Tom Yam Instant Noodles  Pack   \n",
      "1261      1319  Adabi        Mi Segera Kari Ayam Instant Noodles  Pack   \n",
      "1304      1276  Adabi                       Mi Bandung Prawn Mee  Pack   \n",
      "\n",
      "       Country Stars Top Ten  \n",
      "1141  Malaysia   3.5     NaN  \n",
      "1170  Malaysia  3.25     NaN  \n",
      "1261  Malaysia  4.25     NaN  \n",
      "1304  Malaysia  4.25     NaN  \n"
     ]
    }
   ],
   "source": [
    "adabimy = ramen[(ramen['Country'] == \"Malaysia\") & (ramen['Brand'] == \"Adabi\")]\n",
    "print(adabimy)"
   ]
  },
  {
   "cell_type": "code",
   "execution_count": 21,
   "id": "632fc044",
   "metadata": {
    "execution": {
     "iopub.execute_input": "2024-02-16T08:00:48.094644Z",
     "iopub.status.busy": "2024-02-16T08:00:48.094187Z",
     "iopub.status.idle": "2024-02-16T08:00:48.100539Z",
     "shell.execute_reply": "2024-02-16T08:00:48.099398Z"
    },
    "executionInfo": {
     "elapsed": 329,
     "status": "ok",
     "timestamp": 1708071005015,
     "user": {
      "displayName": "balqis uslim",
      "userId": "17685182824634886674"
     },
     "user_tz": -480
    },
    "id": "QC6x4_Pw8trc",
    "outputId": "89bba4de-1b83-4bf4-bbcb-4ac43374c75f",
    "papermill": {
     "duration": 0.027694,
     "end_time": "2024-02-16T08:00:48.102987",
     "exception": false,
     "start_time": "2024-02-16T08:00:48.075293",
     "status": "completed"
    },
    "tags": []
   },
   "outputs": [
    {
     "name": "stdout",
     "output_type": "stream",
     "text": [
      "Maggi has the rating of  4.75 while adabi has the rating of  3.5\n"
     ]
    }
   ],
   "source": [
    "adabirating = adabimy['Stars'].iloc[0]\n",
    "print(\"Maggi has the rating of \", maggi_rating , 'while adabi has the rating of ', adabirating)"
   ]
  },
  {
   "cell_type": "markdown",
   "id": "56a93dc4",
   "metadata": {
    "id": "_NKe7j1h9M8v",
    "papermill": {
     "duration": 0.015941,
     "end_time": "2024-02-16T08:00:48.135544",
     "exception": false,
     "start_time": "2024-02-16T08:00:48.119603",
     "status": "completed"
    },
    "tags": []
   },
   "source": [
    "therefore adabi has a long way to go before it catches maggi's standards"
   ]
  }
 ],
 "metadata": {
  "colab": {
   "authorship_tag": "ABX9TyNhoHKsf7SNIfhT3D+lYJYS",
   "provenance": []
  },
  "kaggle": {
   "accelerator": "none",
   "dataSources": [
    {
     "datasetId": 9366,
     "sourceId": 13206,
     "sourceType": "datasetVersion"
    }
   ],
   "dockerImageVersionId": 30646,
   "isGpuEnabled": false,
   "isInternetEnabled": false,
   "language": "python",
   "sourceType": "notebook"
  },
  "kernelspec": {
   "display_name": "Python 3",
   "language": "python",
   "name": "python3"
  },
  "language_info": {
   "codemirror_mode": {
    "name": "ipython",
    "version": 3
   },
   "file_extension": ".py",
   "mimetype": "text/x-python",
   "name": "python",
   "nbconvert_exporter": "python",
   "pygments_lexer": "ipython3",
   "version": "3.10.13"
  },
  "papermill": {
   "default_parameters": {},
   "duration": 10.113174,
   "end_time": "2024-02-16T08:00:49.177530",
   "environment_variables": {},
   "exception": null,
   "input_path": "__notebook__.ipynb",
   "output_path": "__notebook__.ipynb",
   "parameters": {},
   "start_time": "2024-02-16T08:00:39.064356",
   "version": "2.5.0"
  }
 },
 "nbformat": 4,
 "nbformat_minor": 5
}
